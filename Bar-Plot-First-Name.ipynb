{
 "cells": [
  {
   "cell_type": "markdown",
   "id": "30d396bc",
   "metadata": {},
   "source": [
    "# **evolution** of **first name** popularity"
   ]
  },
  {
   "cell_type": "markdown",
   "id": "a95a348a",
   "metadata": {},
   "source": [
    "## Imports"
   ]
  },
  {
   "cell_type": "code",
   "execution_count": 1,
   "id": "05f47d09",
   "metadata": {},
   "outputs": [],
   "source": [
    "import numpy as np\n",
    "import pandas as pd\n",
    "import matplotlib as plt\n",
    "%matplotlib inline\n",
    "import seaborn as sns"
   ]
  },
  {
   "cell_type": "markdown",
   "id": "721f8c65",
   "metadata": {},
   "source": [
    "## download the dataset"
   ]
  },
  {
   "cell_type": "code",
   "execution_count": 2,
   "id": "da1aee59",
   "metadata": {},
   "outputs": [
    {
     "name": "stdout",
     "output_type": "stream",
     "text": [
      "  % Total    % Received % Xferd  Average Speed   Time    Time     Time  Current\n",
      "                                 Dload  Upload   Total   Spent    Left  Speed\n",
      "100 45271  100 45271    0     0  78151      0 --:--:-- --:--:-- --:--:-- 78188\n"
     ]
    }
   ],
   "source": [
    "!curl https://wagon-public-datasets.s3.amazonaws.com/02-Data-Toolkit/03-Data-Visualization/5_OneCatSevNumOrdered.csv > 5_OneCatSevNumOrdered.csv"
   ]
  },
  {
   "cell_type": "code",
   "execution_count": 3,
   "id": "793bf98b",
   "metadata": {
    "scrolled": true
   },
   "outputs": [],
   "source": [
    "file = '5_OneCatSevNumOrdered.csv'"
   ]
  },
  {
   "cell_type": "markdown",
   "id": "02c803e3",
   "metadata": {},
   "source": [
    "## Creating the data frame in padas"
   ]
  },
  {
   "cell_type": "code",
   "execution_count": 4,
   "id": "69f97459",
   "metadata": {},
   "outputs": [
    {
     "name": "stdout",
     "output_type": "stream",
     "text": [
      "<class 'pandas.core.frame.DataFrame'>\n",
      "RangeIndex: 1161 entries, 0 to 1160\n",
      "Data columns (total 5 columns):\n",
      " #   Column  Non-Null Count  Dtype  \n",
      "---  ------  --------------  -----  \n",
      " 0   year    1161 non-null   int64  \n",
      " 1   sex     1161 non-null   object \n",
      " 2   name    1161 non-null   object \n",
      " 3   n       1161 non-null   int64  \n",
      " 4   prop    1161 non-null   float64\n",
      "dtypes: float64(1), int64(2), object(2)\n",
      "memory usage: 45.5+ KB\n"
     ]
    },
    {
     "data": {
      "text/plain": [
       "None"
      ]
     },
     "metadata": {},
     "output_type": "display_data"
    },
    {
     "data": {
      "text/html": [
       "<div>\n",
       "<style scoped>\n",
       "    .dataframe tbody tr th:only-of-type {\n",
       "        vertical-align: middle;\n",
       "    }\n",
       "\n",
       "    .dataframe tbody tr th {\n",
       "        vertical-align: top;\n",
       "    }\n",
       "\n",
       "    .dataframe thead th {\n",
       "        text-align: right;\n",
       "    }\n",
       "</style>\n",
       "<table border=\"1\" class=\"dataframe\">\n",
       "  <thead>\n",
       "    <tr style=\"text-align: right;\">\n",
       "      <th></th>\n",
       "      <th>year</th>\n",
       "      <th>sex</th>\n",
       "      <th>name</th>\n",
       "      <th>n</th>\n",
       "      <th>prop</th>\n",
       "    </tr>\n",
       "  </thead>\n",
       "  <tbody>\n",
       "    <tr>\n",
       "      <th>0</th>\n",
       "      <td>1880</td>\n",
       "      <td>F</td>\n",
       "      <td>Helen</td>\n",
       "      <td>636</td>\n",
       "      <td>0.006516</td>\n",
       "    </tr>\n",
       "    <tr>\n",
       "      <th>1</th>\n",
       "      <td>1880</td>\n",
       "      <td>F</td>\n",
       "      <td>Amanda</td>\n",
       "      <td>241</td>\n",
       "      <td>0.002469</td>\n",
       "    </tr>\n",
       "    <tr>\n",
       "      <th>2</th>\n",
       "      <td>1880</td>\n",
       "      <td>F</td>\n",
       "      <td>Betty</td>\n",
       "      <td>117</td>\n",
       "      <td>0.001199</td>\n",
       "    </tr>\n",
       "    <tr>\n",
       "      <th>3</th>\n",
       "      <td>1880</td>\n",
       "      <td>F</td>\n",
       "      <td>Dorothy</td>\n",
       "      <td>112</td>\n",
       "      <td>0.001147</td>\n",
       "    </tr>\n",
       "    <tr>\n",
       "      <th>4</th>\n",
       "      <td>1880</td>\n",
       "      <td>F</td>\n",
       "      <td>Linda</td>\n",
       "      <td>27</td>\n",
       "      <td>0.000277</td>\n",
       "    </tr>\n",
       "  </tbody>\n",
       "</table>\n",
       "</div>"
      ],
      "text/plain": [
       "   year sex     name    n      prop\n",
       "0  1880   F    Helen  636  0.006516\n",
       "1  1880   F   Amanda  241  0.002469\n",
       "2  1880   F    Betty  117  0.001199\n",
       "3  1880   F  Dorothy  112  0.001147\n",
       "4  1880   F    Linda   27  0.000277"
      ]
     },
     "execution_count": 4,
     "metadata": {},
     "output_type": "execute_result"
    }
   ],
   "source": [
    "df = pd.read_csv(file)\n",
    "display(df.info())\n",
    "df.head()"
   ]
  },
  {
   "cell_type": "markdown",
   "id": "c462d477",
   "metadata": {},
   "source": [
    "## Simple bar plot\n",
    "Create a simple bar plot of the frequency of each name overall.\n",
    "(matplotlib)"
   ]
  },
  {
   "cell_type": "code",
   "execution_count": 5,
   "id": "6aae9c36",
   "metadata": {},
   "outputs": [
    {
     "data": {
      "text/plain": [
       "array(['Helen', 'Amanda', 'Betty', 'Dorothy', 'Linda', 'Deborah',\n",
       "       'Jessica', 'Patricia', 'Ashley'], dtype=object)"
      ]
     },
     "execution_count": 5,
     "metadata": {},
     "output_type": "execute_result"
    }
   ],
   "source": [
    "df['name'].unique()"
   ]
  },
  {
   "cell_type": "code",
   "execution_count": 6,
   "id": "c7431eb1",
   "metadata": {},
   "outputs": [
    {
     "data": {
      "text/plain": [
       "<AxesSubplot:xlabel='name'>"
      ]
     },
     "execution_count": 6,
     "metadata": {},
     "output_type": "execute_result"
    },
    {
     "data": {
      "image/png": "[encoded data removed]",
      "text/plain": [
       "<Figure size 640x480 with 1 Axes>"
      ]
     },
     "metadata": {},
     "output_type": "display_data"
    }
   ],
   "source": [
    "df.groupby(['name']).sum()['n'].plot(kind=\"bar\")"
   ]
  },
  {
   "cell_type": "markdown",
   "id": "bd106206",
   "metadata": {},
   "source": [
    "## Grouped bar plot\n"
   ]
  },
  {
   "cell_type": "markdown",
   "id": "b03da522",
   "metadata": {},
   "source": [
    "Now let’s re-create this plot from the article using seaborn.\n",
    "Make sure you are using a similar color palette, the same years and names.\n",
    "<br>\n",
    "https://www.data-to-viz.com/graph/barplot.html"
   ]
  },
  {
   "cell_type": "code",
   "execution_count": 7,
   "id": "beb0b8bb",
   "metadata": {},
   "outputs": [
    {
     "data": {
      "text/html": [
       "<div>\n",
       "<style scoped>\n",
       "    .dataframe tbody tr th:only-of-type {\n",
       "        vertical-align: middle;\n",
       "    }\n",
       "\n",
       "    .dataframe tbody tr th {\n",
       "        vertical-align: top;\n",
       "    }\n",
       "\n",
       "    .dataframe thead th {\n",
       "        text-align: right;\n",
       "    }\n",
       "</style>\n",
       "<table border=\"1\" class=\"dataframe\">\n",
       "  <thead>\n",
       "    <tr style=\"text-align: right;\">\n",
       "      <th></th>\n",
       "      <th>year</th>\n",
       "      <th>sex</th>\n",
       "      <th>name</th>\n",
       "      <th>n</th>\n",
       "      <th>prop</th>\n",
       "    </tr>\n",
       "  </thead>\n",
       "  <tbody>\n",
       "    <tr>\n",
       "      <th>665</th>\n",
       "      <td>1960</td>\n",
       "      <td>F</td>\n",
       "      <td>Ashley</td>\n",
       "      <td>57</td>\n",
       "      <td>0.000027</td>\n",
       "    </tr>\n",
       "    <tr>\n",
       "      <th>1017</th>\n",
       "      <td>2000</td>\n",
       "      <td>F</td>\n",
       "      <td>Ashley</td>\n",
       "      <td>17997</td>\n",
       "      <td>0.009023</td>\n",
       "    </tr>\n",
       "    <tr>\n",
       "      <th>319</th>\n",
       "      <td>1920</td>\n",
       "      <td>F</td>\n",
       "      <td>Betty</td>\n",
       "      <td>14017</td>\n",
       "      <td>0.011267</td>\n",
       "    </tr>\n",
       "    <tr>\n",
       "      <th>660</th>\n",
       "      <td>1960</td>\n",
       "      <td>F</td>\n",
       "      <td>Betty</td>\n",
       "      <td>6503</td>\n",
       "      <td>0.003127</td>\n",
       "    </tr>\n",
       "    <tr>\n",
       "      <th>1025</th>\n",
       "      <td>2000</td>\n",
       "      <td>F</td>\n",
       "      <td>Betty</td>\n",
       "      <td>174</td>\n",
       "      <td>0.000087</td>\n",
       "    </tr>\n",
       "    <tr>\n",
       "      <th>318</th>\n",
       "      <td>1920</td>\n",
       "      <td>F</td>\n",
       "      <td>Helen</td>\n",
       "      <td>35098</td>\n",
       "      <td>0.028213</td>\n",
       "    </tr>\n",
       "    <tr>\n",
       "      <th>662</th>\n",
       "      <td>1960</td>\n",
       "      <td>F</td>\n",
       "      <td>Helen</td>\n",
       "      <td>4069</td>\n",
       "      <td>0.001956</td>\n",
       "    </tr>\n",
       "    <tr>\n",
       "      <th>1021</th>\n",
       "      <td>2000</td>\n",
       "      <td>F</td>\n",
       "      <td>Helen</td>\n",
       "      <td>890</td>\n",
       "      <td>0.000446</td>\n",
       "    </tr>\n",
       "    <tr>\n",
       "      <th>320</th>\n",
       "      <td>1920</td>\n",
       "      <td>F</td>\n",
       "      <td>Patricia</td>\n",
       "      <td>2502</td>\n",
       "      <td>0.002011</td>\n",
       "    </tr>\n",
       "    <tr>\n",
       "      <th>658</th>\n",
       "      <td>1960</td>\n",
       "      <td>F</td>\n",
       "      <td>Patricia</td>\n",
       "      <td>32107</td>\n",
       "      <td>0.015437</td>\n",
       "    </tr>\n",
       "    <tr>\n",
       "      <th>1020</th>\n",
       "      <td>2000</td>\n",
       "      <td>F</td>\n",
       "      <td>Patricia</td>\n",
       "      <td>1392</td>\n",
       "      <td>0.000698</td>\n",
       "    </tr>\n",
       "  </tbody>\n",
       "</table>\n",
       "</div>"
      ],
      "text/plain": [
       "      year sex      name      n      prop\n",
       "665   1960   F    Ashley     57  0.000027\n",
       "1017  2000   F    Ashley  17997  0.009023\n",
       "319   1920   F     Betty  14017  0.011267\n",
       "660   1960   F     Betty   6503  0.003127\n",
       "1025  2000   F     Betty    174  0.000087\n",
       "318   1920   F     Helen  35098  0.028213\n",
       "662   1960   F     Helen   4069  0.001956\n",
       "1021  2000   F     Helen    890  0.000446\n",
       "320   1920   F  Patricia   2502  0.002011\n",
       "658   1960   F  Patricia  32107  0.015437\n",
       "1020  2000   F  Patricia   1392  0.000698"
      ]
     },
     "metadata": {},
     "output_type": "display_data"
    }
   ],
   "source": [
    "# 1920, 1960, 2000\n",
    "y1920 = df['year'] == 1920\n",
    "# display(y1920)\n",
    "y1960 = df['year'] == 1960\n",
    "# display(y1960)\n",
    "y2000 = df['year'] == 2000\n",
    "# display(y2000)\n",
    "y_selection = (y1920 | y1960 | y2000)\n",
    "# display(y_selection.iloc[1021:1025:])\n",
    "\n",
    "name1 = df['name'] == 'Ashley'\n",
    "# display(name1)\n",
    "name2 = df['name'] == 'Betty'\n",
    "# display(name2)\n",
    "name3 = df['name'] == 'Helen'\n",
    "# display(name3)\n",
    "name4 = df['name'] == 'Patricia'\n",
    "# display(name4)\n",
    "name_selection = (name1 | name2 | name3 | name4)\n",
    "# display(name_selection)\n",
    "\n",
    "selection = (y_selection & name_selection)\n",
    "# display(selection)\n",
    "df_extract = df[selection]\n",
    "# display(df_extract)\n",
    "df_extract = df_extract.sort_values('name', ascending=True)\n",
    "display(df_extract)"
   ]
  },
  {
   "cell_type": "code",
   "execution_count": 8,
   "id": "cc66197d",
   "metadata": {
    "scrolled": false
   },
   "outputs": [
    {
     "data": {
      "text/plain": [
       "<seaborn.axisgrid.FacetGrid at 0x7f1eb36cdea0>"
      ]
     },
     "execution_count": 8,
     "metadata": {},
     "output_type": "execute_result"
    },
    {
     "data": {
      "image/png": "[encoded data removed]",
      "text/plain": [
       "<Figure size 701.625x600 with 1 Axes>"
      ]
     },
     "metadata": {},
     "output_type": "display_data"
    }
   ],
   "source": [
    "colors = ['#440c53','#2f688e','#34b779','#fde825']\n",
    "\n",
    "sns.set_style('whitegrid')\n",
    "\n",
    "g = sns.catplot(x=\"year\", y=\"n\", hue=\"name\", data=df_extract,\n",
    "                height=6, kind=\"bar\", \n",
    "                palette=sns.color_palette(colors))\n",
    "\n",
    "g.despine(left=True)\n",
    "g.set_ylabels(\"Number of baby\")"
   ]
  }
 ],
 "metadata": {
  "kernelspec": {
   "display_name": "Python 3 (ipykernel)",
   "language": "python",
   "name": "python3"
  },
  "language_info": {
   "codemirror_mode": {
    "name": "ipython",
    "version": 3
   },
   "file_extension": ".py",
   "mimetype": "text/x-python",
   "name": "python",
   "nbconvert_exporter": "python",
   "pygments_lexer": "ipython3",
   "version": "3.10.6"
  },
  "toc": {
   "base_numbering": 1,
   "nav_menu": {},
   "number_sections": true,
   "sideBar": true,
   "skip_h1_title": false,
   "title_cell": "Table of Contents",
   "title_sidebar": "Contents",
   "toc_cell": false,
   "toc_position": {},
   "toc_section_display": true,
   "toc_window_display": false
  }
 },
 "nbformat": 4,
 "nbformat_minor": 5
}
